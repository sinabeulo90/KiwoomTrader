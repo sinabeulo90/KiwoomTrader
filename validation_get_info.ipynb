{
 "cells": [
  {
   "cell_type": "code",
   "execution_count": 1,
   "metadata": {},
   "outputs": [],
   "source": [
    "#-*- coding: utf-8 -*-\n",
    "import sys\n",
    "from PyQt5.QtWidgets import *\n",
    "app = QApplication(sys.argv)"
   ]
  },
  {
   "cell_type": "code",
   "execution_count": 2,
   "metadata": {},
   "outputs": [],
   "source": [
    "from trader import KWTrader"
   ]
  },
  {
   "cell_type": "code",
   "execution_count": 3,
   "metadata": {},
   "outputs": [],
   "source": [
    "tr = KWTrader()\n",
    "tr.initialize()"
   ]
  },
  {
   "cell_type": "code",
   "execution_count": 4,
   "metadata": {},
   "outputs": [
    {
     "name": "stdout",
     "output_type": "stream",
     "text": "on_event_connect\n연결 성공\n"
    }
   ],
   "source": [
    "tr.connection()"
   ]
  },
  {
   "cell_type": "code",
   "execution_count": 5,
   "metadata": {},
   "outputs": [
    {
     "name": "stdout",
     "output_type": "stream",
     "text": "Called OnReceiveTrData event! opt10001 RQName\nEnded OnReceiveTrData event!\n"
    }
   ],
   "source": [
    "result = tr.opt10001(\"300120\", \"0\", \"0101\")"
   ]
  },
  {
   "cell_type": "code",
   "execution_count": 6,
   "metadata": {},
   "outputs": [
    {
     "name": "stdout",
     "output_type": "stream",
     "text": "{u'record_name': u'', u'comm_data': {'\\xec\\xa2\\x85\\xeb\\xaa\\xa9\\xeb\\xaa\\x85': u'\\ub77c\\uc628\\ud53c\\ud50c', '250\\xec\\xb5\\x9c\\xea\\xb3\\xa0\\xea\\xb0\\x80\\xec\\x9d\\xbc': u'20191029', '\\xec\\x99\\xb8\\xec\\x9d\\xb8\\xec\\x86\\x8c\\xec\\xa7\\x84\\xeb\\xa5\\xa0': u'0.00', 'EPS': u'772', 'PER': u'19.88', '\\xec\\x95\\xa1\\xeb\\xa9\\xb4\\xea\\xb0\\x80': u'500', '\\xec\\x9e\\x90\\xeb\\xb3\\xb8\\xea\\xb8\\x88': u'51', '\\xec\\x97\\xb0\\xec\\xa4\\x91\\xec\\xb5\\x9c\\xea\\xb3\\xa0': u'+19150', '250\\xec\\xb5\\x9c\\xea\\xb3\\xa0': u'+19150', '\\xec\\x98\\x81\\xec\\x97\\x85\\xec\\x9d\\xb4\\xec\\x9d\\xb5': u'56', '250\\xec\\xb5\\x9c\\xec\\xa0\\x80\\xea\\xb0\\x80\\xeb\\x8c\\x80\\xeb\\xb9\\x84\\xec\\x9c\\xa8': u'+16.29', '\\xec\\x8b\\xa0\\xec\\x9a\\xa9\\xeb\\xb9\\x84\\xec\\x9c\\xa8': u'0.00', '\\xea\\xb1\\xb0\\xeb\\x9e\\x98\\xeb\\x8c\\x80\\xeb\\xb9\\x84': u'+109.78', '250\\xec\\xb5\\x9c\\xec\\xa0\\x80': u'-13200', '\\xeb\\xa7\\xa4\\xec\\xb6\\x9c\\xec\\x95\\xa1': u'218', '\\xec\\x8b\\x9c\\xea\\xb0\\x80': u'15950', '\\xec\\x95\\xa1\\xeb\\xa9\\xb4\\xea\\xb0\\x80\\xeb\\x8b\\xa8\\xec\\x9c\\x84': u'\\uc6d0', '250\\xec\\xb5\\x9c\\xec\\xa0\\x80\\xea\\xb0\\x80\\xec\\x9d\\xbc': u'20191018', '\\xec\\xa2\\x85\\xeb\\xaa\\xa9\\xec\\xbd\\x94\\xeb\\x93\\x9c': u'300120', '\\xea\\xb2\\xb0\\xec\\x82\\xb0\\xec\\x9b\\x94': u'12', '\\xea\\xb3\\xa0\\xea\\xb0\\x80': u'15950', '\\xeb\\x8c\\x80\\xeb\\xb9\\x84\\xea\\xb8\\xb0\\xed\\x98\\xb8': u'5', '\\xed\\x95\\x98\\xed\\x95\\x9c\\xea\\xb0\\x80': u'-11200', '\\xec\\x8b\\x9c\\xea\\xb0\\x80\\xec\\xb4\\x9d\\xec\\x95\\xa1': u'1562', 'BPS': u'3194', '\\xec\\x83\\x81\\xec\\x9e\\xa5\\xec\\xa3\\xbc\\xec\\x8b\\x9d': u'10178', '\\xec\\x9c\\xa0\\xed\\x86\\xb5\\xeb\\xb9\\x84\\xec\\x9c\\xa8': u'53.9', '\\xed\\x98\\x84\\xec\\x9e\\xac\\xea\\xb0\\x80': u'-15350', 'ROE': u'27.5', '\\xec\\x97\\xb0\\xec\\xa4\\x91\\xec\\xb5\\x9c\\xec\\xa0\\x80': u'-13200', '\\xec\\x9c\\xa0\\xed\\x86\\xb5\\xec\\xa3\\xbc\\xec\\x8b\\x9d': u'5488', '\\xea\\xb8\\xb0\\xec\\xa4\\x80\\xea\\xb0\\x80': u'15950', '\\xec\\xa0\\x84\\xec\\x9d\\xbc\\xeb\\x8c\\x80\\xeb\\xb9\\x84': u'-600', 'PBR': u'4.81', '\\xec\\x98\\x88\\xec\\x83\\x81\\xec\\xb2\\xb4\\xea\\xb2\\xb0\\xec\\x88\\x98\\xeb\\x9f\\x89': u'0', 'EV': u'23.52', '\\xeb\\x8c\\x80\\xec\\x9a\\xa9\\xea\\xb0\\x80': u'11160', '\\xeb\\x93\\xb1\\xeb\\x9d\\xbd\\xec\\x9c\\xa8': u'-3.76', '\\xec\\xa0\\x80\\xea\\xb0\\x80': u'-15300', '\\xeb\\x8b\\xb9\\xea\\xb8\\xb0\\xec\\x88\\x9c\\xec\\x9d\\xb4\\xec\\x9d\\xb5': u'63', '250\\xec\\xb5\\x9c\\xea\\xb3\\xa0\\xea\\xb0\\x80\\xeb\\x8c\\x80\\xeb\\xb9\\x84\\xec\\x9c\\xa8': u'-19.84', '\\xec\\x83\\x81\\xed\\x95\\x9c\\xea\\xb0\\x80': u'+20700', '\\xec\\x8b\\x9c\\xea\\xb0\\x80\\xec\\xb4\\x9d\\xec\\x95\\xa1\\xeb\\xb9\\x84\\xec\\xa4\\x91': u'', '\\xea\\xb1\\xb0\\xeb\\x9e\\x98\\xeb\\x9f\\x89': u'178757', '\\xec\\x98\\x88\\xec\\x83\\x81\\xec\\xb2\\xb4\\xea\\xb2\\xb0\\xea\\xb0\\x80': u'-0'}, u'pre_next': u'0', u'tr_code': u'opt10001', u'rq_name': u'RQName', u'screen_no': u'0101', u'response': 0}\n"
    }
   ],
   "source": [
    "print(result)"
   ]
  },
  {
   "cell_type": "code",
   "execution_count": null,
   "metadata": {},
   "outputs": [],
   "source": []
  }
 ],
 "metadata": {
  "kernelspec": {
   "display_name": "Python 2",
   "language": "python",
   "name": "python2"
  },
  "language_info": {
   "codemirror_mode": {
    "name": "ipython",
    "version": 2
   },
   "file_extension": ".py",
   "mimetype": "text/x-python",
   "name": "python",
   "nbconvert_exporter": "python",
   "pygments_lexer": "ipython2",
   "version": "2.7.16"
  }
 },
 "nbformat": 4,
 "nbformat_minor": 2
}