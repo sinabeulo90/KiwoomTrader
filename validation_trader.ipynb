{
 "cells": [
  {
   "cell_type": "code",
   "execution_count": 1,
   "metadata": {},
   "outputs": [],
   "source": [
    "from pprint import pprint\n",
    "\n",
    "import sys\n",
    "from PyQt5.QtWidgets import *\n",
    "app = QApplication(sys.argv)"
   ]
  },
  {
   "cell_type": "code",
   "execution_count": 2,
   "metadata": {},
   "outputs": [],
   "source": [
    "def is_equal_header_rows_size(comm_data):\n",
    "    if not comm_data:\n",
    "        return None\n",
    "    \n",
    "    single = comm_data['single'] if 'single' in comm_data else None\n",
    "    multiple = comm_data['multiple'] if 'multiple' in comm_data else None\n",
    "\n",
    "    if single and len(single['header']) != len(single['rows']):\n",
    "        print('header length :', len(single['header']))\n",
    "        print('rows length   :', len(single['rows']))\n",
    "    if multiple and len(multiple['header']) != len(multiple['rows'][0]):\n",
    "        print('header length :', len(multiple['header']))\n",
    "        print('rows length   :', len(multiple['rows'][0]))\n",
    "    \n",
    "    return len(single['header']) == len(single['rows']) if single else True  \\\n",
    "    and multiple and len(multiple['header']) == len(multiple['rows'][0]) if multiple else True"
   ]
  },
  {
   "cell_type": "code",
   "execution_count": 3,
   "metadata": {},
   "outputs": [],
   "source": [
    "from trader import KWTrader"
   ]
  },
  {
   "cell_type": "code",
   "execution_count": 4,
   "metadata": {},
   "outputs": [],
   "source": [
    "tr = KWTrader()\n",
    "tr.initialize()"
   ]
  },
  {
   "cell_type": "code",
   "execution_count": 5,
   "metadata": {},
   "outputs": [
    {
     "name": "stdout",
     "output_type": "stream",
     "text": "on_event_connect\n연결 성공\n"
    }
   ],
   "source": [
    "tr.connection()"
   ]
  },
  {
   "cell_type": "code",
   "execution_count": 6,
   "metadata": {},
   "outputs": [
    {
     "name": "stdout",
     "output_type": "stream",
     "text": "~*~ Called OnReceiveTrData event! ~*~\n[ INFO ]\n\t screen_no : 0101\n\t rq_name : opt10038\n\t tr_code : opt10038\n\t record_name : \n\t prev_next:  0\n\n\n[ comm_rq_data ]\n\t response_comm_rq_data : 0\n\t get_repeat_cnt(record_name_single) : 11\n\t get_repeat_cnt(record_name_multiple) : 11\n~*~ Ended OnReceiveTrData event! ~*~\n~*~ Called OnReceiveTrData event! ~*~\n[ INFO ]\n\t screen_no : 0101\n\t rq_name : opt10038\n\t tr_code : opt10038\n\t record_name : \n\t prev_next:  0\n\n\n[ comm_rq_data ]\n\t response_comm_rq_data : 0\n\t get_repeat_cnt(record_name_single) : 18\n\t get_repeat_cnt(record_name_multiple) : 18\n~*~ Ended OnReceiveTrData event! ~*~\n{'single': {'header': ['순위1', '순위2', '순위3', '기간중거래량'], 'rows': ['+108330', '-165241', '--56911', '260511']}, 'multiple': {'header': ['순위', '회원사명', '매도수량', '매수수량', '누적순매수량'], 'rows': [['1', '키움증권', '+84763', '-106470', '--21707'], ['2', '한국투자증권', '+9046', '-28791', '--19745'], ['3', '한  양', '+0', '-8000', '--8000'], ['4', 'SK증권', '+1294', '-4028', '--2734'], ['5', '한  화', '+1573', '-2844', '--1271'], ['6', '유진투자증권', '+3416', '-4606', '--1190'], ['7', '신한금융투자', '+4082', '-5151', '--1069'], ['8', '현대차증권', '+337', '-800', '--463'], ['9', '유안타', '+3657', '-4023', '--366'], ['10', 'BNK증권', '+0', '-256', '--256'], ['11', 'IBK투자증권', '+162', '-272', '--110']]}}\n{'single': {'header': ['순위1', '순위2', '순위3', '기간중거래량'], 'rows': ['+362928', '-282172', '+80756', '516813']}, 'multiple': {'header': ['순위', '회원사명', '매도수량', '매수수량', '누적순매수량'], 'rows': [['1', '대  신', '+27367', '-11444', '+15923'], ['2', 'NH투자증권', '+33864', '-19366', '+14498'], ['3', 'HI투자증권', '+13616', '-3023', '+10593'], ['4', '메리츠', '+15666', '-5362', '+10304'], ['5', 'KB증권', '+26029', '-18446', '+7583'], ['6', '신한금융투자', '+13871', '-7767', '+6104'], ['7', 'DB금융투자', '+6385', '-857', '+5528'], ['8', '유안타', '+10240', '-8267', '+1973'], ['9', '교  보', '+4580', '-2715', '+1865'], ['10', '이베스트', '+6544', '-5160', '+1384'], ['11', 'IBK투자증권', '+1911', '-679', '+1232'], ['12', '부  국', '+1710', '-554', '+1156'], ['13', '키움증권', '+167434', '-166398', '+1036'], ['14', '한  화', '+5386', '-4389', '+997'], ['15', '유진투자증권', '+7097', '-6888', '+209'], ['16', '신  영', '+241', '-50', '+191'], ['17', '하나금융투자', '+20983', '-20807', '+176'], ['18', '상상인증권', '+4', '-0', '+4']]}}\n"
    }
   ],
   "source": [
    "tr1 = tr.opt10038(\"300120\", \"20161101\", \"20161124\", 1, 1, 0, \"0101\")\n",
    "tr2 = tr.opt10038(\"300120\", \"20161101\", \"20161124\", 2, 2, 0, \"0101\")\n",
    "\n",
    "assert(is_equal_header_rows_size(tr1['comm_data']))\n",
    "assert(is_equal_header_rows_size(tr2['comm_data']))\n",
    "print(tr1['comm_data'])\n",
    "print(tr2['comm_data'])"
   ]
  },
  {
   "cell_type": "markdown",
   "metadata": {},
   "outputs": [],
   "source": [
    "### TODO: 장 중에 Validation 테스트\n",
    "> \n",
    "> 1. tr.opt10028(1, \"0000\", \"000\", \"0\", \"0\", \"0\", \"0\", \"1\", 0, \"0101\")\n",
    "> 2. tr.opt10028(4, \"0000\", \"101\", \"1\", \"0\", \"0\", \"0\", \"2\", 0, \"0101\")\n",
    "> 3. tr.opt10029(\"000\", \"1\", \"0\", \"0\", \"0\", \"0\", 0, \"0101\")\n",
    "> 4. tr.opt10029(\"101\", \"8\", \"0\", \"0\", \"0\", \"0\", 0, \"0101\")"
   ]
  },
  {
   "cell_type": "markdown",
   "metadata": {},
   "outputs": [],
   "source": [
    "### TODO: Input 값 정의 확인\n",
    ">\n",
    "> \"???\" : 현재가조건\n",
    ">\n",
    "> 1. tr.opt10037(\"000\", \"0\", \"1\", \"1\", \"???\", 0, \"0101\")\n",
    "> 2. tr.opt10037(\"101\", \"60\", \"4\", \"2\", \"???\", 0, \"0101\")\n"
   ]
  },
  {
   "cell_type": "code",
   "execution_count": 17,
   "metadata": {},
   "outputs": [],
   "source": [
    "## opt10001\n",
    "# tr.opt10001(\"300120\", 0, \"0101\")\n",
    "\n",
    "## opt10002\n",
    "# tr.opt10002(\"300120\", 0, \"0101\")\n",
    "\n",
    "## opt10003\n",
    "# tr.opt10003(\"300120\", 0, \"0101\")\n",
    "\n",
    "## opt10004\n",
    "# tr.opt10004(\"300120\", 0, \"0101\")\n",
    "\n",
    "## opt10005\n",
    "# tr.opt10005(\"300120\", 0, \"0101\")\n",
    "\n",
    "## opt10006\n",
    "# tr.opt10006(\"300120\", 0, \"0101\")\n",
    "\n",
    "## opt10007\n",
    "# tr.opt10007(\"300120\", 0, \"0101\")\n",
    "\n",
    "## opt10008\n",
    "# tr.opt10008(\"300120\", 0, \"0101\")\n",
    "\n",
    "## opt10009\n",
    "# tr.opt10009(\"300120\", 0, \"0101\")\n",
    "\n",
    "## opt10010\n",
    "# tr.opt10010(\"300120\", 0, \"0101\")"
   ]
  },
  {
   "cell_type": "code",
   "execution_count": 18,
   "metadata": {},
   "outputs": [],
   "source": [
    "## opt10012\n",
    "# tr.opt10012(\"-\", 0, \"0101\") # 주문 요청한 이후에 Vadlidation 테스트\n",
    "\n",
    "## opt10013\n",
    "# tr.opt10013(\"300120\", \"20191112\", 1, 0, \"0101\")\n",
    "# tr.opt10013(\"300120\", \"20191112\", 2, 0, \"0101\")\n",
    "\n",
    "## opt10014\n",
    "# tr.opt10014(\"005930\", 0, \"20191113\", \"20191114\", 0, \"0101\")\n",
    "# tr.opt10014(\"005930\", 1, \"20190101\", \"20191114\", 1, \"0101\")\n",
    "\n",
    "## opt10015\n",
    "# tr.opt10015(\"300120\", \"20191113\", 0, \"0101\")\n",
    "\n",
    "## opt10016\n",
    "# tr.opt10016(\"000\", 1, 1, 0, \"0000\", 0, 0, 250, 0, \"0101\")\n",
    "# tr.opt10016(\"000\", 2, 2, 0, \"0000\", 0, 2, 60, 0, \"0101\")\n",
    "\n",
    "## opt10017\n",
    "# tr.opt10017(\"000\", \"1\", \"1\", \"0\", \"0000\", 0, 0, 0, \"0101\")\n",
    "# tr.opt10017(\"000\", \"3\", \"3\", \"0\", \"0000\", 9, 0, 0, \"0101\")\n",
    "\n",
    "## opt10018\n",
    "# tr.opt10018(\"1\", \"05\", \"000\", \"00000\", \"0\", 0, 0, \"0101\")\n",
    "# tr.opt10018(\"2\", \"30\", \"000\", \"00000\", \"0\", 0, 0, \"0101\")\n",
    "\n",
    "## opt10019\n",
    "# tr.opt10019(\"000\", \"1\", \"1\", \"24\", \"00000\", 0, 0, 0, 0, 0, \"0101\")\n",
    "# tr.opt10019(\"000\", \"2\", \"2\", \"24\", \"00000\", 0, 0, 0, 1, 0, \"0101\")\n",
    "\n",
    "## opt10020\n",
    "# tr.opt10020(\"001\", \"1\", \"0000\", \"0\", \"0\", 0, \"0101\")\n",
    "# tr.opt10020(\"101\", \"3\", \"0000\", \"0\", \"0\", 0, \"0101\")"
   ]
  },
  {
   "cell_type": "code",
   "execution_count": 19,
   "metadata": {},
   "outputs": [],
   "source": [
    "## opt10021\n",
    "# tr.opt10021(\"001\", \"1\", \"1\", \"60\", \"1\", 0, 0, \"0101\")\n",
    "# tr.opt10021(\"101\", \"2\", \"2\", \"360\", \"50\", 0, 0, \"0101\")\n",
    "\n",
    "## opt10022\n",
    "# tr.opt10022(\"001\", \"1\", \"60\", \"5\", 0, 0, \"0101\")\n",
    "# tr.opt10022(\"101\", \"2\", \"360\", \"100\", 0, 0, \"0101\")\n",
    "\n",
    "## opt10023\n",
    "# tr.opt10023(\"001\", \"1\", \"1\", \"5\", \"60\", 0, 0, 0, \"0101\")\n",
    "# tr.opt10023(\"101\", \"2\", \"2\", \"1000\", \"360\", 0, 0, 0, \"0101\")\n",
    "\n",
    "## opt10024\n",
    "# tr.opt10024(\"000\", \"5\", \"5\", 0, \"0101\")\n",
    "# tr.opt10024(\"101\", \"250\", \"1000\", 0, \"0101\")\n",
    "\n",
    "## opt10025\n",
    "# tr.opt10025(\"000\", \"50\", \"0\", 1, \"50\", 0, \"0101\")\n",
    "# tr.opt10025(\"101\", \"100\", \"1\", 1, \"300\", 0, \"0101\")\n",
    "\n",
    "## opt10026\n",
    "# tr.opt10026(\"0\", 0, \"0101\")\n",
    "\n",
    "## opt10027\n",
    "# tr.opt10027(\"000\", 1, \"0000\", \"0\", \"0\", \"0\", \"0\", \"0\", 0, \"0101\")\n",
    "# tr.opt10027(\"000\", 4, \"0000\", \"0\", \"0\", \"1\", \"0\", \"0\", 0, \"0101\")\n",
    "\n",
    "## opt10030\n",
    "# tr.opt10030(\"000\", \"1\", \"0\", 0, \"0101\")\n",
    "# tr.opt10030(\"101\", \"3\", \"1\", 0, \"0101\")"
   ]
  },
  {
   "cell_type": "code",
   "execution_count": null,
   "metadata": {},
   "outputs": [],
   "source": [
    "## opt10031\n",
    "# tr.opt10031(\"000\", \"1\", \"0\", \"100\", 0, \"0101\")\n",
    "# tr.opt10031(\"101\", \"2\", \"100\", \"100\", 0, \"0101\")\n",
    "\n",
    "## opt10032\n",
    "# tr.opt10032(\"000\", \"0\", 0, \"0101\")\n",
    "# tr.opt10032(\"101\", \"1\", 0, \"0101\")\n",
    "\n",
    "## opt10033\n",
    "# tr.opt10033(\"000\", \"0\", \"0\", \"0\", \"0\", 0, \"0101\")\n",
    "# tr.opt10033(\"000\", \"0\", \"9\", \"1\", \"9\", 0, \"0101\")\n",
    "\n",
    "## opt10034\n",
    "# tr.opt10034(\"000\", \"1\", \"0\", 0, \"0101\")\n",
    "# tr.opt10034(\"101\", \"3\", \"60\", 0, \"0101\")\n",
    "\n",
    "## opt10035\n",
    "# tr.opt10035(\"000\", \"1\", \"0\", 0, \"0101\")\n",
    "# tr.opt10035(\"001\", \"2\", \"1\", 0, \"0101\")\n",
    "\n",
    "## opt10036\n",
    "# tr.opt10036(\"000\", \"0\",0, \"0101\")\n",
    "# tr.opt10036(\"101\", \"60\", 0, \"0101\")\n",
    "\n",
    "## opt10037\n",
    "# tr.opt10037(\"000\", \"0\", \"1\", \"1\", \"\", 0, \"0101\")\n",
    "# tr.opt10037(\"101\", \"60\", \"4\", \"2\", \"\", 0, \"0101\")"
   ]
  }
 ],
 "metadata": {
  "kernelspec": {
   "display_name": "Python 2",
   "language": "python",
   "name": "python2"
  },
  "language_info": {
   "codemirror_mode": {
    "name": "ipython",
    "version": 2
   },
   "file_extension": ".py",
   "mimetype": "text/x-python",
   "name": "python",
   "nbconvert_exporter": "python",
   "pygments_lexer": "ipython2",
   "version": "3.7.5"
  }
 },
 "nbformat": 4,
 "nbformat_minor": 2
}