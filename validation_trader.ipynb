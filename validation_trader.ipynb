{
 "cells": [
  {
   "cell_type": "code",
   "execution_count": 1,
   "metadata": {},
   "outputs": [],
   "source": [
    "from pprint import pprint\n",
    "\n",
    "import sys\n",
    "from PyQt5.QtWidgets import *\n",
    "app = QApplication(sys.argv)"
   ]
  },
  {
   "cell_type": "code",
   "execution_count": 2,
   "metadata": {},
   "outputs": [],
   "source": [
    "from trader import KWTrader\n",
    "\n",
    "tr = KWTrader()\n",
    "tr.initialize()"
   ]
  },
  {
   "cell_type": "code",
   "execution_count": 3,
   "metadata": {},
   "outputs": [],
   "source": [
    "tr.connection()"
   ]
  },
  {
   "cell_type": "code",
   "execution_count": 9,
   "metadata": {},
   "outputs": [],
   "source": []
  },
  {
   "cell_type": "code",
   "execution_count": 21,
   "metadata": {},
   "outputs": [],
   "source": [
    "# tr1 = tr.opt10001(\"300120\", 0, \"0101\")\n",
    "# tr2 = tr.opt10002(\"300120\", 0, \"0101\")\n",
    "# tr3 = tr.opt10003(\"300120\", 0, \"0101\")\n",
    "# tr4 = tr.opt10004(\"300120\", 0, \"0101\")\n",
    "# tr5 = tr.opt10005(\"300120\", 0, \"0101\")\n",
    "# tr6 = tr.opt10006(\"300120\", 0, \"0101\")\n",
    "# tr7 = tr.opt10007(\"300120\", 0, \"0101\")\n",
    "# tr8 = tr.opt10008(\"300120\", 0, \"0101\")\n",
    "# tr9 = tr.opt10009(\"300120\", 0, \"0101\")\n",
    "# tr10 = tr.opt10010(\"300120\", 0, \"0101\")"
   ]
  },
  {
   "cell_type": "code",
   "execution_count": null,
   "metadata": {},
   "outputs": [],
   "source": []
  }
 ],
 "metadata": {
  "kernelspec": {
   "display_name": "Python 2",
   "language": "python",
   "name": "python2"
  },
  "language_info": {
   "codemirror_mode": {
    "name": "ipython",
    "version": 2
   },
   "file_extension": ".py",
   "mimetype": "text/x-python",
   "name": "python",
   "nbconvert_exporter": "python",
   "pygments_lexer": "ipython2",
   "version": "2.7.16"
  }
 },
 "nbformat": 4,
 "nbformat_minor": 2
}