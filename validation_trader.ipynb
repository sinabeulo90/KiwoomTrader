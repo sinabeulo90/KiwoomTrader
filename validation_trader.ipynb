{
 "cells": [
  {
   "cell_type": "code",
   "execution_count": 1,
   "metadata": {},
   "outputs": [],
   "source": [
    "from pprint import pprint\n",
    "\n",
    "import sys\n",
    "from PyQt5.QtWidgets import *\n",
    "app = QApplication(sys.argv)"
   ]
  },
  {
   "cell_type": "code",
   "execution_count": 2,
   "metadata": {},
   "outputs": [],
   "source": [
    "from trader import KWTrader\n",
    "\n",
    "tr = KWTrader()\n",
    "tr.initialize()"
   ]
  },
  {
   "cell_type": "code",
   "execution_count": 3,
   "metadata": {},
   "outputs": [
    {
     "name": "stdout",
     "output_type": "stream",
     "text": "on_event_connect\n연결 성공\n"
    }
   ],
   "source": [
    "tr.connection()"
   ]
  },
  {
   "cell_type": "code",
   "execution_count": 5,
   "metadata": {},
   "outputs": [
    {
     "name": "stdout",
     "output_type": "stream",
     "text": "Called OnReceiveTrData event!\n[ INFO ]\n\t screen_no : 0101\n\t rq_name : opt10030\n\t tr_code : opt10030\n\t record_name : \n\t prev_next:  2\n\n\n[ comm_rq_data ]\n\t response_comm_rq_data : 0\n\t get_repeat_cnt : 100\nGetCommDataEx opt10030 opt10030\nEnded OnReceiveTrData event!\n--------------------------------\nCalled OnReceiveTrData event!\n[ INFO ]\n\t screen_no : 0101\n\t rq_name : opt10030\n\t tr_code : opt10030\n\t record_name : \n\t prev_next:  2\n\n\n[ comm_rq_data ]\n\t response_comm_rq_data : 0\n\t get_repeat_cnt : 100\nGetCommDataEx opt10030 opt10030\nEnded OnReceiveTrData event!\n"
    }
   ],
   "source": [
    "tr30_1 = tr.opt10030(\"000\", \"1\", \"0\", 0, \"0101\")\n",
    "print(\"--------------------------------\")\n",
    "tr30_2 = tr.opt10030(\"101\", \"3\", \"1\", 0, \"0101\")"
   ]
  },
  {
   "cell_type": "code",
   "execution_count": 8,
   "metadata": {},
   "outputs": [
    {
     "name": "stdout",
     "output_type": "stream",
     "text": "Called OnReceiveTrData event!\n[ INFO ]\n\t screen_no : 0101\n\t rq_name : opt10031\n\t tr_code : opt10031\n\t record_name : \n\t prev_next:  0\n\n\n[ comm_rq_data ]\n\t response_comm_rq_data : 0\n\t get_repeat_cnt : 100\nGetCommDataEx opt10031 opt10031\nEnded OnReceiveTrData event!\n--------------------------------\nCalled OnReceiveTrData event!\n[ INFO ]\n\t screen_no : 0101\n\t rq_name : opt10031\n\t tr_code : opt10031\n\t record_name : \n\t prev_next:  0\n\n\n[ comm_rq_data ]\n\t response_comm_rq_data : 0\n\t get_repeat_cnt : 0\nEnded OnReceiveTrData event!\n"
    }
   ],
   "source": [
    "tr31_1 = tr.opt10031(\"000\", \"1\", \"0\", \"100\", 0, \"0101\")\n",
    "print(\"--------------------------------\")\n",
    "tr31_2 = tr.opt10031(\"101\", \"2\", \"100\", \"100\", 0, \"0101\")"
   ]
  },
  {
   "cell_type": "code",
   "execution_count": 10,
   "metadata": {},
   "outputs": [
    {
     "name": "stdout",
     "output_type": "stream",
     "text": "{'response': 0, 'screen_no': '0101', 'rq_name': 'opt10031', 'tr_code': 'opt10031', 'record_name': '', 'pre_next': '0', 'comm_data': {'header': ['종목코드', '종목명', '현재가', '전일대비기호', '전일대비', '거래량'], 'rows': [['', '', '', '', '', '']]}}\n"
    }
   ],
   "source": [
    "print(tr31_2)"
   ]
  },
  {
   "cell_type": "markdown",
   "execution_count": null,
   "metadata": {},
   "outputs": [],
   "source": [
    "### TODO: 장 중에 Validation 테스트\n",
    "> \n",
    "> 1. tr28_1 = tr.opt10028(1, \"0000\", \"000\", \"0\", \"0\", \"0\", \"0\", \"1\", 0, \"0101\")\n",
    "> 2. tr28_2 = tr.opt10028(4, \"0000\", \"101\", \"1\", \"0\", \"0\", \"0\", \"2\", 0, \"0101\")\n",
    "> 3. tr29_1 = tr.opt10029(\"000\", \"1\", \"0\", \"0\", \"0\", \"0\", 0, \"0101\")\n",
    "> 4. tr29_2 = tr.opt10029(\"101\", \"8\", \"0\", \"0\", \"0\", \"0\", 0, \"0101\")"
   ]
  },
  {
   "cell_type": "code",
   "execution_count": 21,
   "metadata": {},
   "outputs": [],
   "source": [
    "# tr1 = tr.opt10001(\"300120\", 0, \"0101\")\n",
    "# tr2 = tr.opt10002(\"300120\", 0, \"0101\")\n",
    "# tr3 = tr.opt10003(\"300120\", 0, \"0101\")\n",
    "# tr4 = tr.opt10004(\"300120\", 0, \"0101\")\n",
    "# tr5 = tr.opt10005(\"300120\", 0, \"0101\")\n",
    "# tr6 = tr.opt10006(\"300120\", 0, \"0101\")\n",
    "# tr7 = tr.opt10007(\"300120\", 0, \"0101\")\n",
    "# tr8 = tr.opt10008(\"300120\", 0, \"0101\")\n",
    "# tr9 = tr.opt10009(\"300120\", 0, \"0101\")\n",
    "# tr10 = tr.opt10010(\"300120\", 0, \"0101\")\n",
    "# tr12 = tr.opt10012(\"-\", 0, \"0101\") # 주문 요청한 이후에 Vadlidation 테스트\n",
    "# tr13_1 = tr.opt10013(\"300120\", \"20191112\", 1, 0, \"0101\")\n",
    "# tr13_2 = tr.opt10013(\"300120\", \"20191112\", 2, 0, \"0101\")\n",
    "# tr14_0 = tr.opt10014(\"005930\", 0, \"20191113\", \"20191114\", 0, \"0101\")\n",
    "# tr14_1 = tr.opt10014(\"005930\", 1, \"20190101\", \"20191114\", 1, \"0101\")\n",
    "# tr15 = tr.opt10015(\"300120\", \"20191113\", 0, \"0101\")\n",
    "# tr16_1 = tr.opt10016(\"000\", 1, 1, 0, \"0000\", 0, 0, 250, 0, \"0101\")\n",
    "# tr16_2 = tr.opt10016(\"000\", 2, 2, 0, \"0000\", 0, 2, 60, 0, \"0101\")\n",
    "# tr17_1 = tr.opt10017(\"000\", \"1\", \"1\", \"0\", \"0000\", 0, 0, 0, \"0101\")\n",
    "# tr17_2 = tr.opt10017(\"000\", \"3\", \"3\", \"0\", \"0000\", 9, 0, 0, \"0101\")\n",
    "# tr18_1 = tr.opt10018(\"1\", \"05\", \"000\", \"00000\", \"0\", 0, 0, \"0101\")\n",
    "# tr18_2 = tr.opt10018(\"2\", \"30\", \"000\", \"00000\", \"0\", 0, 0, \"0101\")\n",
    "# tr19_1 = tr.opt10019(\"000\", \"1\", \"1\", \"24\", \"00000\", 0, 0, 0, 0, 0, \"0101\")\n",
    "# tr19_2 = tr.opt10019(\"000\", \"2\", \"2\", \"24\", \"00000\", 0, 0, 0, 1, 0, \"0101\")\n",
    "# tr20_1 = tr.opt10020(\"001\", \"1\", \"0000\", \"0\", \"0\", 0, \"0101\")\n",
    "# tr20_2 = tr.opt10020(\"101\", \"3\", \"0000\", \"0\", \"0\", 0, \"0101\")\n",
    "# tr21_1 = tr.opt10021(\"001\", \"1\", \"1\", \"60\", \"1\", 0, 0, \"0101\")\n",
    "# tr21_2 = tr.opt10021(\"101\", \"2\", \"2\", \"360\", \"50\", 0, 0, \"0101\")\n",
    "# tr22_1 = tr.opt10022(\"001\", \"1\", \"60\", \"5\", 0, 0, \"0101\")\n",
    "# tr22_2 = tr.opt10022(\"101\", \"2\", \"360\", \"100\", 0, 0, \"0101\")\n",
    "# tr23_1 = tr.opt10023(\"001\", \"1\", \"1\", \"5\", \"60\", 0, 0, 0, \"0101\")\n",
    "# tr23_2 = tr.opt10023(\"101\", \"2\", \"2\", \"1000\", \"360\", 0, 0, 0, \"0101\")\n",
    "# tr24_1 = tr.opt10024(\"000\", \"5\", \"5\", 0, \"0101\")\n",
    "# tr24_2 = tr.opt10024(\"101\", \"250\", \"1000\", 0, \"0101\")\n",
    "# tr25_1 = tr.opt10025(\"000\", \"50\", \"0\", 1, \"50\", 0, \"0101\")\n",
    "# tr25_2 = tr.opt10025(\"101\", \"100\", \"1\", 1, \"300\", 0, \"0101\")\n",
    "# tr26 = tr.opt10026(\"0\", 0, \"0101\")\n",
    "# tr27_1 = tr.opt10027(\"000\", 1, \"0000\", \"0\", \"0\", \"0\", \"0\", \"0\", 0, \"0101\")\n",
    "# tr27_2 = tr.opt10027(\"000\", 4, \"0000\", \"0\", \"0\", \"1\", \"0\", \"0\", 0, \"0101\")"
   ]
  },
  {
   "cell_type": "code",
   "execution_count": null,
   "metadata": {},
   "outputs": [],
   "source": []
  }
 ],
 "metadata": {
  "kernelspec": {
   "display_name": "Python 2",
   "language": "python",
   "name": "python2"
  },
  "language_info": {
   "codemirror_mode": {
    "name": "ipython",
    "version": 2
   },
   "file_extension": ".py",
   "mimetype": "text/x-python",
   "name": "python",
   "nbconvert_exporter": "python",
   "pygments_lexer": "ipython2",
   "version": "3.7.5"
  }
 },
 "nbformat": 4,
 "nbformat_minor": 2
}