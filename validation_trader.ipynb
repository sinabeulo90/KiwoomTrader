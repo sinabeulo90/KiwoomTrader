{
 "cells": [
  {
   "cell_type": "code",
   "execution_count": 1,
   "metadata": {},
   "outputs": [],
   "source": [
    "from pprint import pprint\n",
    "\n",
    "import sys\n",
    "from PyQt5.QtWidgets import *\n",
    "app = QApplication(sys.argv)"
   ]
  },
  {
   "cell_type": "code",
   "execution_count": 2,
   "metadata": {},
   "outputs": [],
   "source": [
    "def is_equal_header_rows_size(comm_data):\n",
    "    if not comm_data:\n",
    "        return None\n",
    "    \n",
    "    single = comm_data['single'] if 'single' in comm_data else None\n",
    "    multiple = comm_data['multiple'] if 'multiple' in comm_data else None\n",
    "\n",
    "    if single is None and multiple is None:\n",
    "        return False\n",
    "\n",
    "    if single is not None and len(single['header']) != len(single['rows']):\n",
    "        print('[single] header length :', len(single['header']))\n",
    "        print('[single] rows length   :', len(single['rows']))\n",
    "    if multiple is not None and len(multiple['header']) != len(multiple['rows'][0]):\n",
    "        print('[multiple] header length :', len(multiple['header']))\n",
    "        print('[multiple] rows length   :', len(multiple['rows'][0]))\n",
    "    \n",
    "    single_flag = len(single['header']) == len(single['rows']) if single is not None else True\n",
    "    multiple_flag = len(multiple['header']) == len(multiple['rows'][0]) if multiple is not None else True\n",
    "\n",
    "    return single_flag and multiple_flag"
   ]
  },
  {
   "cell_type": "code",
   "execution_count": 3,
   "metadata": {},
   "outputs": [],
   "source": [
    "from trader import KWTrader"
   ]
  },
  {
   "cell_type": "code",
   "execution_count": 4,
   "metadata": {},
   "outputs": [],
   "source": [
    "tr = KWTrader()\n",
    "tr.initialize()"
   ]
  },
  {
   "cell_type": "code",
   "execution_count": 5,
   "metadata": {},
   "outputs": [
    {
     "name": "stdout",
     "output_type": "stream",
     "text": "on_event_connect\n연결 성공\n"
    }
   ],
   "source": [
    "tr.connection()"
   ]
  },
  {
   "cell_type": "code",
   "execution_count": 6,
   "metadata": {},
   "outputs": [
    {
     "name": "stdout",
     "output_type": "stream",
     "text": "~*~ Called OnReceiveTrData event! ~*~\n[ INFO ]\n\t screen_no : 0101\n\t rq_name : opt10040\n\t tr_code : opt10040\n\t record_name : \n\t prev_next:  0\n\n\n[ comm_rq_data ]\n\t response_comm_rq_data : 0\n\t get_repeat_cnt(record_name_single) : 1\n\t get_repeat_cnt(record_name_multiple) : 1\n~*~ Ended OnReceiveTrData event! ~*~\n{'multiple': {'header': ['매도이탈시간',\n                         '매도수량',\n                         '매도상위이탈원',\n                         '매수이탈시간',\n                         '매수수량',\n                         '매수상위이탈원',\n                         '조회일자',\n                         '조회시간'],\n              'rows': [['', '', '', '', '', '', '', '']]},\n 'single': {'header': ['매도거래원별증감1',\n                       '매도거래원수량1',\n                       '매도거래원1',\n                       '매도거래원코드1',\n                       '매수거래원1',\n                       '매수거래원코드1',\n                       '매수거래원수량1',\n                       '매수거래원별증감1',\n                       '매도거래원별증감2',\n                       '매도거래원수량2',\n                       '매도거래원2',\n                       '매도거래원코드2',\n                       '매수거래원2',\n                       '매수거래원코드2',\n                       '매수거래원수량2',\n                       '매수거래원별증감2',\n                       '매도거래원별증감3',\n                       '매도거래원수량3',\n                       '매도거래원3',\n                       '매도거래원코드3',\n                       '매수거래원3',\n                       '매수거래원코드3',\n                       '매수거래원수량3',\n                       '매수거래원별증감3',\n                       '매도거래원별증감4',\n                       '매도거래원수량4',\n                       '매도거래원4',\n                       '매도거래원코드4',\n                       '매수거래원4',\n                       '매수거래원코드4',\n                       '매수거래원수량4',\n                       '매수거래원별증감4',\n                       '매도거래원별증감5',\n                       '매도거래원수량5',\n                       '매도거래원5',\n                       '매도거래원코드5',\n                       '매수거래원5',\n                       '매수거래원코드5',\n                       '매수거래원수량5',\n                       '매수거래원별증감5',\n                       '외국계매도추정합변동',\n                       '외국계매도추정합',\n                       '외국계매수추정합',\n                       '외국계매수추정합변동'],\n            'rows': ['+3286',\n                     '-105995',\n                     '키움증권',\n                     '050',\n                     '키움증권',\n                     '050',\n                     '+83984',\n                     '+3142',\n                     '+1444',\n                     '-30737',\n                     '미래대우',\n                     '005',\n                     '미래대우',\n                     '005',\n                     '+37937',\n                     '+2044',\n                     '+30',\n                     '-28716',\n                     '한국투자증권',\n                     '003',\n                     'NH투자증권',\n                     '012',\n                     '+19901',\n                     '+184',\n                     '0',\n                     '-17466',\n                     '삼  성',\n                     '030',\n                     '삼  성',\n                     '030',\n                     '+19113',\n                     '+232',\n                     '0',\n                     '-11409',\n                     '하나금융투자',\n                     '056',\n                     '대  신',\n                     '004',\n                     '+16892',\n                     '+30',\n                     '0',\n                     '-140',\n                     '+0',\n                     '0']}}\n"
    }
   ],
   "source": [
    "tr1 = tr.opt10040(\"300120\", 0, \"0101\")\n",
    "# tr2 = tr.opt10039(\"300120\", \"1000\", \"2\", 60, 0, \"0101\")\n",
    "\n",
    "assert(is_equal_header_rows_size(tr1['comm_data']))\n",
    "# assert(is_equal_header_rows_size(tr2['comm_data']))\n",
    "pprint(tr1['comm_data'])\n",
    "# print(tr2['comm_data'])"
   ]
  },
  {
   "cell_type": "markdown",
   "metadata": {},
   "outputs": [],
   "source": [
    "### TODO: 장 중에 Validation 테스트\n",
    "> \n",
    "> 1. tr.opt10028(1, \"0000\", \"000\", \"0\", \"0\", \"0\", \"0\", \"1\", 0, \"0101\")\n",
    "> 2. tr.opt10028(4, \"0000\", \"101\", \"1\", \"0\", \"0\", \"0\", \"2\", 0, \"0101\")\n",
    "> 3. tr.opt10029(\"000\", \"1\", \"0\", \"0\", \"0\", \"0\", 0, \"0101\")\n",
    "> 4. tr.opt10029(\"101\", \"8\", \"0\", \"0\", \"0\", \"0\", 0, \"0101\")\n",
    "> 5. tr.opt10039(\"888\", \"0\", \"1\", 1, 0, \"0101\")\n",
    "> 6. tr.opt10039(\"300120\", \"1000\", \"2\", 60, 0, \"0101\")"
   ]
  },
  {
   "cell_type": "markdown",
   "metadata": {},
   "outputs": [],
   "source": [
    "### TODO: Input 값 정의 확인\n",
    ">\n",
    "> \"???\" : 현재가조건\n",
    ">\n",
    "> 1. tr.opt10037(\"000\", \"0\", \"1\", \"1\", \"???\", 0, \"0101\")\n",
    "> 2. tr.opt10037(\"101\", \"60\", \"4\", \"2\", \"???\", 0, \"0101\")\n"
   ]
  },
  {
   "cell_type": "code",
   "execution_count": 17,
   "metadata": {},
   "outputs": [],
   "source": [
    "## opt10001\n",
    "# tr.opt10001(\"300120\", 0, \"0101\")\n",
    "\n",
    "## opt10002\n",
    "# tr.opt10002(\"300120\", 0, \"0101\")\n",
    "\n",
    "## opt10003\n",
    "# tr.opt10003(\"300120\", 0, \"0101\")\n",
    "\n",
    "## opt10004\n",
    "# tr.opt10004(\"300120\", 0, \"0101\")\n",
    "\n",
    "## opt10005\n",
    "# tr.opt10005(\"300120\", 0, \"0101\")\n",
    "\n",
    "## opt10006\n",
    "# tr.opt10006(\"300120\", 0, \"0101\")\n",
    "\n",
    "## opt10007\n",
    "# tr.opt10007(\"300120\", 0, \"0101\")\n",
    "\n",
    "## opt10008\n",
    "# tr.opt10008(\"300120\", 0, \"0101\")\n",
    "\n",
    "## opt10009\n",
    "# tr.opt10009(\"300120\", 0, \"0101\")\n",
    "\n",
    "## opt10010\n",
    "# tr.opt10010(\"300120\", 0, \"0101\")"
   ]
  },
  {
   "cell_type": "code",
   "execution_count": 18,
   "metadata": {},
   "outputs": [],
   "source": [
    "## opt10012\n",
    "# tr.opt10012(\"-\", 0, \"0101\") # 주문 요청한 이후에 Vadlidation 테스트\n",
    "\n",
    "## opt10013\n",
    "# tr.opt10013(\"300120\", \"20191112\", 1, 0, \"0101\")\n",
    "# tr.opt10013(\"300120\", \"20191112\", 2, 0, \"0101\")\n",
    "\n",
    "## opt10014\n",
    "# tr.opt10014(\"005930\", 0, \"20191113\", \"20191114\", 0, \"0101\")\n",
    "# tr.opt10014(\"005930\", 1, \"20190101\", \"20191114\", 1, \"0101\")\n",
    "\n",
    "## opt10015\n",
    "# tr.opt10015(\"300120\", \"20191113\", 0, \"0101\")\n",
    "\n",
    "## opt10016\n",
    "# tr.opt10016(\"000\", 1, 1, 0, \"0000\", 0, 0, 250, 0, \"0101\")\n",
    "# tr.opt10016(\"000\", 2, 2, 0, \"0000\", 0, 2, 60, 0, \"0101\")\n",
    "\n",
    "## opt10017\n",
    "# tr.opt10017(\"000\", \"1\", \"1\", \"0\", \"0000\", 0, 0, 0, \"0101\")\n",
    "# tr.opt10017(\"000\", \"3\", \"3\", \"0\", \"0000\", 9, 0, 0, \"0101\")\n",
    "\n",
    "## opt10018\n",
    "# tr.opt10018(\"1\", \"05\", \"000\", \"00000\", \"0\", 0, 0, \"0101\")\n",
    "# tr.opt10018(\"2\", \"30\", \"000\", \"00000\", \"0\", 0, 0, \"0101\")\n",
    "\n",
    "## opt10019\n",
    "# tr.opt10019(\"000\", \"1\", \"1\", \"24\", \"00000\", 0, 0, 0, 0, 0, \"0101\")\n",
    "# tr.opt10019(\"000\", \"2\", \"2\", \"24\", \"00000\", 0, 0, 0, 1, 0, \"0101\")\n",
    "\n",
    "## opt10020\n",
    "# tr.opt10020(\"001\", \"1\", \"0000\", \"0\", \"0\", 0, \"0101\")\n",
    "# tr.opt10020(\"101\", \"3\", \"0000\", \"0\", \"0\", 0, \"0101\")"
   ]
  },
  {
   "cell_type": "code",
   "execution_count": 19,
   "metadata": {},
   "outputs": [],
   "source": [
    "## opt10021\n",
    "# tr.opt10021(\"001\", \"1\", \"1\", \"60\", \"1\", 0, 0, \"0101\")\n",
    "# tr.opt10021(\"101\", \"2\", \"2\", \"360\", \"50\", 0, 0, \"0101\")\n",
    "\n",
    "## opt10022\n",
    "# tr.opt10022(\"001\", \"1\", \"60\", \"5\", 0, 0, \"0101\")\n",
    "# tr.opt10022(\"101\", \"2\", \"360\", \"100\", 0, 0, \"0101\")\n",
    "\n",
    "## opt10023\n",
    "# tr.opt10023(\"001\", \"1\", \"1\", \"5\", \"60\", 0, 0, 0, \"0101\")\n",
    "# tr.opt10023(\"101\", \"2\", \"2\", \"1000\", \"360\", 0, 0, 0, \"0101\")\n",
    "\n",
    "## opt10024\n",
    "# tr.opt10024(\"000\", \"5\", \"5\", 0, \"0101\")\n",
    "# tr.opt10024(\"101\", \"250\", \"1000\", 0, \"0101\")\n",
    "\n",
    "## opt10025\n",
    "# tr.opt10025(\"000\", \"50\", \"0\", 1, \"50\", 0, \"0101\")\n",
    "# tr.opt10025(\"101\", \"100\", \"1\", 1, \"300\", 0, \"0101\")\n",
    "\n",
    "## opt10026\n",
    "# tr.opt10026(\"0\", 0, \"0101\")\n",
    "\n",
    "## opt10027\n",
    "# tr.opt10027(\"000\", 1, \"0000\", \"0\", \"0\", \"0\", \"0\", \"0\", 0, \"0101\")\n",
    "# tr.opt10027(\"000\", 4, \"0000\", \"0\", \"0\", \"1\", \"0\", \"0\", 0, \"0101\")\n",
    "\n",
    "## opt10030\n",
    "# tr.opt10030(\"000\", \"1\", \"0\", 0, \"0101\")\n",
    "# tr.opt10030(\"101\", \"3\", \"1\", 0, \"0101\")"
   ]
  },
  {
   "cell_type": "code",
   "execution_count": null,
   "metadata": {},
   "outputs": [],
   "source": [
    "## opt10031\n",
    "# tr.opt10031(\"000\", \"1\", \"0\", \"100\", 0, \"0101\")\n",
    "# tr.opt10031(\"101\", \"2\", \"100\", \"100\", 0, \"0101\")\n",
    "\n",
    "## opt10032\n",
    "# tr.opt10032(\"000\", \"0\", 0, \"0101\")\n",
    "# tr.opt10032(\"101\", \"1\", 0, \"0101\")\n",
    "\n",
    "## opt10033\n",
    "# tr.opt10033(\"000\", \"0\", \"0\", \"0\", \"0\", 0, \"0101\")\n",
    "# tr.opt10033(\"000\", \"0\", \"9\", \"1\", \"9\", 0, \"0101\")\n",
    "\n",
    "## opt10034\n",
    "# tr.opt10034(\"000\", \"1\", \"0\", 0, \"0101\")\n",
    "# tr.opt10034(\"101\", \"3\", \"60\", 0, \"0101\")\n",
    "\n",
    "## opt10035\n",
    "# tr.opt10035(\"000\", \"1\", \"0\", 0, \"0101\")\n",
    "# tr.opt10035(\"001\", \"2\", \"1\", 0, \"0101\")\n",
    "\n",
    "## opt10036\n",
    "# tr.opt10036(\"000\", \"0\",0, \"0101\")\n",
    "# tr.opt10036(\"101\", \"60\", 0, \"0101\")\n",
    "\n",
    "## opt10037\n",
    "# tr.opt10037(\"000\", \"0\", \"1\", \"1\", \"\", 0, \"0101\")\n",
    "# tr.opt10037(\"101\", \"60\", \"4\", \"2\", \"\", 0, \"0101\")\n",
    "\n",
    "## opt10038\n",
    "# tr.opt10038(\"300120\", \"20161101\", \"20161124\", 1, 1, 0, \"0101\")\n",
    "# tr.opt10038(\"300120\", \"20161101\", \"20161124\", 2, 2, 0, \"0101\")"
   ]
  }
 ],
 "metadata": {
  "kernelspec": {
   "display_name": "Python 2",
   "language": "python",
   "name": "python2"
  },
  "language_info": {
   "codemirror_mode": {
    "name": "ipython",
    "version": 2
   },
   "file_extension": ".py",
   "mimetype": "text/x-python",
   "name": "python",
   "nbconvert_exporter": "python",
   "pygments_lexer": "ipython2",
   "version": "3.7.5"
  }
 },
 "nbformat": 4,
 "nbformat_minor": 2
}